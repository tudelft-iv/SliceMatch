{
 "cells": [
  {
   "cell_type": "code",
   "execution_count": null,
   "metadata": {},
   "outputs": [],
   "source": [
    "import cv2\n",
    "import glob\n",
    "import numpy as np\n",
    "import os\n",
    "from skimage.transform import resize"
   ]
  },
  {
   "cell_type": "code",
   "execution_count": null,
   "metadata": {},
   "outputs": [],
   "source": [
    "vigor_cities = ['Chicago', 'NewYork', 'SanFrancisco', 'Seattle']\n",
    "\n",
    "old_grd_folder_name = 'panorama'\n",
    "old_aer_folder_name = 'satellite'\n",
    "\n",
    "new_grd_folder_name = 'panorama_resized'\n",
    "new_aer_folder_name = 'satellite_resized'\n",
    "\n",
    "datasets_dir = os.path.dirname(os.getcwd())\n",
    "vigor_dir    = os.path.join(datasets_dir, 'VIGOR')"
   ]
  },
  {
   "cell_type": "code",
   "execution_count": null,
   "metadata": {},
   "outputs": [],
   "source": [
    "img_sizes = {'H': 320, 'W': 640, 'A': 512, 'H_original': 1024, 'W_original': 2048, 'A_original': 640}"
   ]
  },
  {
   "cell_type": "code",
   "execution_count": null,
   "metadata": {},
   "outputs": [],
   "source": [
    "if os.path.isdir(vigor_dir):\n",
    "    for city_name in vigor_cities:\n",
    "        city_dir = os.path.join(vigor_dir, city_name)\n",
    "        \n",
    "        # ground images\n",
    "        old_grd_folder_dir = os.path.join(city_dir, old_grd_folder_name)\n",
    "        new_grd_folder_dir = os.path.join(city_dir, new_grd_folder_name)\n",
    "        grd_imgs = glob.glob(os.path.join(old_grd_folder_dir, '*.jpg'))\n",
    "        os.mkdir(new_grd_folder_dir)\n",
    "        for grd_img_read_dir in grd_imgs:\n",
    "            grd_img_name     = os.path.basename(grd_img_read_dir)\n",
    "            grd_img_save_dir = os.path.join(vigor_dir, city_name, new_grd_folder_name, grd_img_name)\n",
    "            grd_img_original = cv2.imread(grd_img_read_dir)[:,:,::-1]\n",
    "            grd_img_resized  = resize(grd_img_original, (img_sizes['H'], img_sizes['W'], 3), anti_aliasing=True)\n",
    "            cv2.imwrite(grd_img_save_dir, np.round(255*grd_img_resized).astype(int)[:,:,::-1])\n",
    "            \n",
    "        # aerial images\n",
    "        old_aer_folder_dir = os.path.join(city_dir, old_aer_folder_name)\n",
    "        new_aer_folder_dir = os.path.join(city_dir, new_aer_folder_name)\n",
    "        aer_imgs = glob.glob(os.path.join(old_aer_folder_dir, '*.png'))\n",
    "        os.mkdir(new_aer_folder_dir)\n",
    "        for aer_img_read_dir in aer_imgs:\n",
    "            aer_img_name     = os.path.basename(aer_img_read_dir)\n",
    "            aer_img_save_dir = os.path.join(vigor_dir, city_name, new_aer_folder_name, aer_img_name)\n",
    "            aer_img_original = cv2.imread(aer_img_read_dir)[:,:,::-1]\n",
    "            aer_img_resized  = resize(aer_img_original, (img_sizes['A'], img_sizes['A'], 3), anti_aliasing=True)\n",
    "            cv2.imwrite(aer_img_save_dir, np.round(255*aer_img_resized).astype(int)[:,:,::-1])"
   ]
  }
 ],
 "metadata": {
  "kernelspec": {
   "display_name": "Python 3",
   "language": "python",
   "name": "python3"
  },
  "language_info": {
   "codemirror_mode": {
    "name": "ipython",
    "version": 3
   },
   "file_extension": ".py",
   "mimetype": "text/x-python",
   "name": "python",
   "nbconvert_exporter": "python",
   "pygments_lexer": "ipython3",
   "version": "3.8.12"
  }
 },
 "nbformat": 4,
 "nbformat_minor": 5
}
