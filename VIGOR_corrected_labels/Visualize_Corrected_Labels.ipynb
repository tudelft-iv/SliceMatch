{
 "cells": [
  {
   "cell_type": "markdown",
   "metadata": {},
   "source": [
    "# VIGOR Dataset: Visualize Corrected Labels\n",
    "\n",
    "This Jupyter notebook can be used to visualize the corrected labels of the VIGOR dataset."
   ]
  },
  {
   "cell_type": "code",
   "execution_count": null,
   "metadata": {
    "scrolled": true
   },
   "outputs": [],
   "source": [
    "import cv2\n",
    "import ipywidgets\n",
    "import matplotlib.pyplot as plt\n",
    "import matplotlib.gridspec as gridspec\n",
    "import os"
   ]
  },
  {
   "cell_type": "markdown",
   "metadata": {},
   "source": [
    "### 1. Load Data\n",
    "\n",
    "Below, the names of the images are obtained for the indicated city. This notebook should be placed in the folder of the VIGOR dataset, i.e., the directory should be ``DIR_TO_VIGOR_DATASET/VIGOR/VisualizeCorrectedLabels.ipynb``."
   ]
  },
  {
   "cell_type": "code",
   "execution_count": null,
   "metadata": {
    "scrolled": true
   },
   "outputs": [],
   "source": [
    "city_idx           = 0\n",
    "file_idx           = 0\n",
    "cities             = [\"Chicago\", \"NewYork\", \"SanFrancisco\", \"Seattle\"]\n",
    "files              = [\"pano_label_balanced__corrected.txt\", \"same_area_balanced_train__corrected.txt\", \"same_area_balanced_test__corrected.txt\"]\n",
    "\n",
    "# folder names\n",
    "ground_folder_name = \"panorama\"\n",
    "aerial_folder_name = \"satellite\"\n",
    "splits_name        = \"splits__corrected\"\n",
    "\n",
    "# directories\n",
    "dataset_dir        = os.getcwd()\n",
    "ground_folder_dir  = os.path.join(dataset_dir, cities[city_idx], ground_folder_name)\n",
    "aerial_folder_dir  = os.path.join(dataset_dir, cities[city_idx], aerial_folder_name)\n",
    "combination_dir    = os.path.join(dataset_dir, splits_name, cities[city_idx], files[file_idx])\n",
    "\n",
    "# get image names\n",
    "ground_img_names   = list(sorted(os.listdir(ground_folder_dir)))\n",
    "aerial_img_names   = list(sorted(os.listdir(aerial_folder_dir)))\n",
    "\n",
    "print(f\"{cities[city_idx]} & {files[file_idx]}: {len(ground_img_names)} ground images and {len(aerial_img_names)} aerial images found!\")"
   ]
  },
  {
   "cell_type": "markdown",
   "metadata": {},
   "source": [
    "### 2. Show Labels\n",
    "\n",
    "Below, the images of the VIGOR dataset are displayed with an interactive widget. The number of image pairs that can be shown with the widget has been set to 100. The semi-positive aerial images are also displayed."
   ]
  },
  {
   "cell_type": "code",
   "execution_count": null,
   "metadata": {
    "scrolled": true
   },
   "outputs": [],
   "source": [
    "def plot_image_pair(ground_folder_dir, aerial_folder_dir, combination_dir, ground_img_name):\n",
    "    def get_aerial_and_deltas(ground_img_name, combination_dir):\n",
    "        data_list = []\n",
    "        with open(combination_dir, 'r') as file:\n",
    "            for line in file.readlines():\n",
    "                data = line.split(' ')\n",
    "                if data[0]==ground_img_name:\n",
    "                    for idx in range(4):\n",
    "                        data_list.append((data[3*idx+1], float(data[3*idx+2]), float(data[3*idx+3])))\n",
    "                    break\n",
    "        return data_list\n",
    "    \n",
    "    # load images\n",
    "    data_list   = get_aerial_and_deltas(ground_img_name, combination_dir)\n",
    "    ground_img  = cv2.imread(os.path.join(ground_folder_dir, ground_img_name))[:,:,::-1]\n",
    "    aerial_img1 = cv2.imread(os.path.join(aerial_folder_dir, data_list[0][0]))[:,:,::-1]\n",
    "    aerial_img2 = cv2.imread(os.path.join(aerial_folder_dir, data_list[1][0]))[:,:,::-1]\n",
    "    aerial_img3 = cv2.imread(os.path.join(aerial_folder_dir, data_list[2][0]))[:,:,::-1]\n",
    "    aerial_img4 = cv2.imread(os.path.join(aerial_folder_dir, data_list[3][0]))[:,:,::-1]    \n",
    "    W, H, A     = ground_img.shape[1], ground_img.shape[0], aerial_img1.shape[0]\n",
    "    \n",
    "    # get deltas\n",
    "    delta1 = data_list[0][1:]\n",
    "    delta2 = data_list[1][1:]\n",
    "    delta3 = data_list[2][1:]\n",
    "    delta4 = data_list[3][1:]\n",
    "    \n",
    "    # create plot\n",
    "    fig  = plt.figure(figsize=[15, 11])\n",
    "    grid = plt.GridSpec(2, 3, wspace=0.1, hspace=0.05)\n",
    "    ax1  = plt.subplot(grid[0, :2])\n",
    "    ax2  = plt.subplot(grid[0, 2])\n",
    "    ax3  = plt.subplot(grid[1, 0])\n",
    "    ax4  = plt.subplot(grid[1, 1])\n",
    "    ax5  = plt.subplot(grid[1, 2])\n",
    "    \n",
    "    # plot ground view\n",
    "    ax1.imshow(ground_img, extent=(0, W, H, 0), zorder=-10)\n",
    "    ax1.set_title('Ground View', pad=10, fontsize=24)\n",
    "    ax1.set_xlim(0, W)\n",
    "    ax1.set_ylim(H, 0)\n",
    "    \n",
    "    # plot aerial view (positive)\n",
    "    ax2.imshow(aerial_img1, extent=(0, A, A, 0), zorder=-10)\n",
    "    ax2.set_title('Satellite View (Positive)', pad=16, fontsize=24)\n",
    "    ax2.set_xlim(0, A)\n",
    "    ax2.set_ylim(A, 0)\n",
    "    \n",
    "    # plot aerial view (semi-positive 1)\n",
    "    ax3.imshow(aerial_img2, extent=(0, A, A, 0), zorder=-10)\n",
    "    ax3.set_title('Semi-Positive 1', pad=10, fontsize=24)\n",
    "    ax3.set_xlim(0, A)\n",
    "    ax3.set_ylim(A, 0)\n",
    "    \n",
    "    # plot aerial view (semi-positive 2)\n",
    "    ax4.imshow(aerial_img3, extent=(0, A, A, 0), zorder=-10)\n",
    "    ax4.set_title('Semi-Positive 2', pad=10, fontsize=24)\n",
    "    ax4.set_xlim(0, A)\n",
    "    ax4.set_ylim(A, 0)\n",
    "    \n",
    "    # plot aerial view (semi-positive 3)\n",
    "    ax5.imshow(aerial_img4, extent=(0, A, A, 0), zorder=-10)\n",
    "    ax5.set_title('Semi-Positive 3', pad=10, fontsize=24)\n",
    "    ax5.set_xlim(0, A)\n",
    "    ax5.set_ylim(A, 0)\n",
    "    \n",
    "    # plot rays\n",
    "    colors = ['springgreen', 'deepskyblue', 'orange', 'magenta']                            # North, East, South, West \n",
    "    xc1, yc1 = A/2-delta1[1], A/2+delta1[0]                                                 # See GitHub of VIGOR for this formula\n",
    "    xc2, yc2 = A/2-delta2[1], A/2+delta2[0]                                                 # See GitHub of VIGOR for this formula\n",
    "    xc3, yc3 = A/2-delta3[1], A/2+delta3[0]                                                 # See GitHub of VIGOR for this formula\n",
    "    xc4, yc4 = A/2-delta4[1], A/2+delta4[0]                                                 # See GitHub of VIGOR for this formula\n",
    "    \n",
    "    ax1.vlines(x=0.00*W, ymin=0, ymax=H, color=colors[2], linewidth=3, zorder=10)           # South\n",
    "    ax1.vlines(x=0.25*W, ymin=0, ymax=H, color=colors[3], linewidth=3, zorder=10)           # West\n",
    "    ax1.vlines(x=0.50*W, ymin=0, ymax=H, color=colors[0], linewidth=3, zorder=10)           # North\n",
    "    ax1.vlines(x=0.75*W, ymin=0, ymax=H, color=colors[1], linewidth=3, zorder=10)           # East\n",
    "    ax1.vlines(x=1.00*W, ymin=0, ymax=H, color=colors[2], linewidth=3, zorder=10)           # South\n",
    "    \n",
    "    ax2.scatter(xc1, yc1, s=150, color=\"yellow\", zorder=20)                                 # Center\n",
    "    ax2.vlines(x=xc1, ymin=0, ymax=yc1, color=colors[0], linewidth=3, zorder=10)            # North\n",
    "    ax2.hlines(y=yc1, xmin=xc1, xmax=A, color=colors[1], linewidth=3, zorder=10)            # East\n",
    "    ax2.vlines(x=xc1, ymin=yc1, ymax=A, color=colors[2], linewidth=3, zorder=10)            # South\n",
    "    ax2.hlines(y=yc1, xmin=0, xmax=xc1, color=colors[3], linewidth=3, zorder=10)            # West\n",
    "    \n",
    "    ax3.scatter(xc2, yc2, s=150, color=\"yellow\", zorder=20)                                 # Center\n",
    "    ax3.vlines(x=xc2, ymin=0, ymax=yc2, color=colors[0], linewidth=3, zorder=10)            # North\n",
    "    ax3.hlines(y=yc2, xmin=xc2, xmax=A, color=colors[1], linewidth=3, zorder=10)            # East\n",
    "    ax3.vlines(x=xc2, ymin=yc2, ymax=A, color=colors[2], linewidth=3, zorder=10)            # South\n",
    "    ax3.hlines(y=yc2, xmin=0, xmax=xc2, color=colors[3], linewidth=3, zorder=10)            # West\n",
    "    \n",
    "    ax4.scatter(xc3, yc3, s=150, color=\"yellow\", zorder=20)                                 # Center\n",
    "    ax4.vlines(x=xc3, ymin=0, ymax=yc3, color=colors[0], linewidth=3, zorder=10)            # North\n",
    "    ax4.hlines(y=yc3, xmin=xc3, xmax=A, color=colors[1], linewidth=3, zorder=10)            # East\n",
    "    ax4.vlines(x=xc3, ymin=yc3, ymax=A, color=colors[2], linewidth=3, zorder=10)            # South\n",
    "    ax4.hlines(y=yc3, xmin=0, xmax=xc3, color=colors[3], linewidth=3, zorder=10)            # West\n",
    "    \n",
    "    ax5.scatter(xc4, yc4, s=150, color=\"yellow\", zorder=20)                                 # Center\n",
    "    ax5.vlines(x=xc4, ymin=0, ymax=yc4, color=colors[0], linewidth=3, zorder=10)            # North\n",
    "    ax5.hlines(y=yc4, xmin=xc4, xmax=A, color=colors[1], linewidth=3, zorder=10)            # East\n",
    "    ax5.vlines(x=xc4, ymin=yc4, ymax=A, color=colors[2], linewidth=3, zorder=10)            # South\n",
    "    ax5.hlines(y=yc4, xmin=0, xmax=xc4, color=colors[3], linewidth=3, zorder=10)            # West    \n",
    "    \n",
    "    # disable ticks\n",
    "    ax1.axis('off')\n",
    "    ax2.axis('off')\n",
    "    ax3.axis('off')\n",
    "    ax4.axis('off')\n",
    "    ax5.axis('off')\n",
    "\n",
    "    plt.show()\n",
    "\n",
    "    # print image names\n",
    "    print(\"Ground View:                   {}\".format(ground_img_name))\n",
    "    print(\"Aerial View (positive):        {}\".format(data_list[0][0]))\n",
    "    print(\"Aerial View (semi-positive 1): {}\".format(data_list[1][0]))\n",
    "    print(\"Aerial View (semi-positive 2): {}\".format(data_list[2][0]))\n",
    "    print(\"Aerial View (semi-positive 3): {}\".format(data_list[3][0]))"
   ]
  },
  {
   "cell_type": "code",
   "execution_count": null,
   "metadata": {
    "scrolled": false
   },
   "outputs": [],
   "source": [
    "ipywidgets.interact(lambda idx: plot_image_pair(ground_folder_dir=ground_folder_dir,\n",
    "                                                aerial_folder_dir=aerial_folder_dir,\n",
    "                                                combination_dir=combination_dir,\n",
    "                                                ground_img_name=ground_img_names[idx]),\n",
    "                    idx=range(min(len(ground_img_names), 100)))"
   ]
  }
 ],
 "metadata": {
  "kernelspec": {
   "display_name": "Python 3",
   "language": "python",
   "name": "python3"
  },
  "language_info": {
   "codemirror_mode": {
    "name": "ipython",
    "version": 3
   },
   "file_extension": ".py",
   "mimetype": "text/x-python",
   "name": "python",
   "nbconvert_exporter": "python",
   "pygments_lexer": "ipython3",
   "version": "3.8.12"
  }
 },
 "nbformat": 4,
 "nbformat_minor": 5
}
